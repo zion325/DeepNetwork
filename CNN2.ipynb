{
 "cells": [
  {
   "cell_type": "code",
   "execution_count": 3,
   "id": "d38de147",
   "metadata": {},
   "outputs": [],
   "source": [
    "import numpy as np\n",
    "import tensorflow as tf\n",
    "from tensorflow.keras import layers, models, datasets\n"
   ]
  },
  {
   "cell_type": "code",
   "execution_count": 2,
   "id": "aa17b9a9",
   "metadata": {},
   "outputs": [],
   "source": [
    "# GPU\n",
    "gpus = tf.config.experimental.list_physical_devices('GPU')\n",
    "if gpus:\n",
    "    try:\n",
    "        for gpu in gpus:\n",
    "            tf.config.experimental.set_memory_growth(gpu, True)\n",
    "    except RuntimeError as e:\n",
    "        print(e)"
   ]
  },
  {
   "cell_type": "markdown",
   "id": "e55c0f10",
   "metadata": {},
   "source": [
    "### 构建CNN模型"
   ]
  },
  {
   "cell_type": "code",
   "execution_count": 3,
   "id": "981c0c2f",
   "metadata": {},
   "outputs": [],
   "source": [
    "def cnn_model(input_shape, num_classes):\n",
    "    model = models.Sequential([\n",
    "        # 第一层卷积层\n",
    "        layers.Conv2D(32, (3, 3), activation='relu', input_shape=input_shape),\n",
    "        layers.MaxPooling2D((2, 2)),\n",
    "        # 第二层卷积层\n",
    "        layers.Conv2D(64, (3, 3), activation='relu'),\n",
    "        layers.MaxPooling2D((2, 2)),\n",
    "        # 第三层卷积层\n",
    "        layers.Conv2D(64, (3, 3), activation='relu'),\n",
    "        layers.Flatten(),\n",
    "        layers.Dense(64, activation='relu'),\n",
    "        layers.Dense(num_classes, activation='softmax')\n",
    "    ])\n",
    "\n",
    "    model.compile(optimizer='adam',\n",
    "                  loss='sparse_categorical_crossentropy',\n",
    "                  metrics=['accuracy'])\n",
    "\n",
    "    return model\n"
   ]
  },
  {
   "cell_type": "markdown",
   "id": "81fe5420",
   "metadata": {},
   "source": [
    "## MNIST数据集"
   ]
  },
  {
   "cell_type": "code",
   "execution_count": 7,
   "id": "4115f1df",
   "metadata": {},
   "outputs": [],
   "source": [
    "# 加载数据，然后归一化\n",
    "(x_train_mnist, y_train_mnist), (x_test_mnist, y_test_mnist) = datasets.mnist.load_data()\n",
    "x_train_mnist, x_test_mnist = x_train_mnist / 255.0, x_test_mnist / 255.0\n",
    "# 添加通道维度\n",
    "x_train_mnist = x_train_mnist[..., tf.newaxis]  # (60000, 28, 28, 1)\n",
    "x_test_mnist = x_test_mnist[..., tf.newaxis]  # # (10000, 28, 28, 1)"
   ]
  },
  {
   "cell_type": "code",
   "execution_count": 10,
   "id": "67212b26",
   "metadata": {},
   "outputs": [
    {
     "name": "stdout",
     "output_type": "stream",
     "text": [
      "Epoch 1/5\n",
      "1875/1875 [==============================] - 14s 7ms/step - loss: 0.1426 - accuracy: 0.9564 - val_loss: 0.0387 - val_accuracy: 0.9866\n",
      "Epoch 2/5\n",
      "1875/1875 [==============================] - 14s 7ms/step - loss: 0.0452 - accuracy: 0.9856 - val_loss: 0.0328 - val_accuracy: 0.9890\n",
      "Epoch 3/5\n",
      "1875/1875 [==============================] - 14s 7ms/step - loss: 0.0323 - accuracy: 0.9894 - val_loss: 0.0341 - val_accuracy: 0.9881\n",
      "Epoch 4/5\n",
      "1875/1875 [==============================] - 14s 7ms/step - loss: 0.0245 - accuracy: 0.9923 - val_loss: 0.0319 - val_accuracy: 0.9898\n",
      "Epoch 5/5\n",
      "1875/1875 [==============================] - 14s 7ms/step - loss: 0.0200 - accuracy: 0.9935 - val_loss: 0.0308 - val_accuracy: 0.9903\n"
     ]
    },
    {
     "data": {
      "text/plain": [
       "<keras.callbacks.History at 0x28a0cf90a58>"
      ]
     },
     "execution_count": 10,
     "metadata": {},
     "output_type": "execute_result"
    }
   ],
   "source": [
    "mnist_model = cnn_model(x_train_mnist[0].shape, 10)\n",
    "# 训练模型\n",
    "mnist_model.fit(x_train_mnist, y_train_mnist, epochs=5, validation_data=(x_test_mnist, y_test_mnist))"
   ]
  },
  {
   "cell_type": "markdown",
   "id": "2e25f354",
   "metadata": {},
   "source": [
    "## CIFAR数据集"
   ]
  },
  {
   "cell_type": "code",
   "execution_count": 4,
   "id": "3f0ea0f5",
   "metadata": {},
   "outputs": [],
   "source": [
    "# 加载 CIFAR-10 数据集\n",
    "(x_train_cifar, y_train_cifar), (x_test_cifar, y_test_cifar) = datasets.cifar10.load_data()\n",
    "x_train_cifar, x_test_cifar = x_train_cifar / 255.0, x_test_cifar / 255.0\n"
   ]
  },
  {
   "cell_type": "code",
   "execution_count": 5,
   "id": "091b5437",
   "metadata": {},
   "outputs": [
    {
     "data": {
      "text/plain": [
       "array([[3],\n",
       "       [8],\n",
       "       [8],\n",
       "       ...,\n",
       "       [5],\n",
       "       [1],\n",
       "       [7]], dtype=uint8)"
      ]
     },
     "execution_count": 5,
     "metadata": {},
     "output_type": "execute_result"
    }
   ],
   "source": [
    "y_test_cifar"
   ]
  },
  {
   "cell_type": "code",
   "execution_count": 12,
   "id": "7b9820b0",
   "metadata": {},
   "outputs": [
    {
     "data": {
      "text/plain": [
       "(50000, 32, 32, 3)"
      ]
     },
     "execution_count": 12,
     "metadata": {},
     "output_type": "execute_result"
    }
   ],
   "source": [
    "x_train_cifar.shape"
   ]
  },
  {
   "cell_type": "code",
   "execution_count": 15,
   "id": "e5ab8035",
   "metadata": {},
   "outputs": [
    {
     "name": "stdout",
     "output_type": "stream",
     "text": [
      "Epoch 1/10\n",
      "1563/1563 [==============================] - 18s 11ms/step - loss: 1.5199 - accuracy: 0.4462 - val_loss: 1.2745 - val_accuracy: 0.5394\n",
      "Epoch 2/10\n",
      "1563/1563 [==============================] - 18s 11ms/step - loss: 1.1466 - accuracy: 0.5919 - val_loss: 1.0714 - val_accuracy: 0.6220\n",
      "Epoch 3/10\n",
      "1563/1563 [==============================] - 17s 11ms/step - loss: 1.0043 - accuracy: 0.6457 - val_loss: 0.9838 - val_accuracy: 0.6542\n",
      "Epoch 4/10\n",
      "1563/1563 [==============================] - 18s 11ms/step - loss: 0.9082 - accuracy: 0.6783 - val_loss: 0.9551 - val_accuracy: 0.6678\n",
      "Epoch 5/10\n",
      "1563/1563 [==============================] - 18s 11ms/step - loss: 0.8384 - accuracy: 0.7059 - val_loss: 0.9052 - val_accuracy: 0.6917\n",
      "Epoch 6/10\n",
      "1563/1563 [==============================] - 18s 11ms/step - loss: 0.7846 - accuracy: 0.7237 - val_loss: 0.8802 - val_accuracy: 0.6945\n",
      "Epoch 7/10\n",
      "1563/1563 [==============================] - 18s 11ms/step - loss: 0.7323 - accuracy: 0.7425 - val_loss: 0.8563 - val_accuracy: 0.7089\n",
      "Epoch 8/10\n",
      "1563/1563 [==============================] - 18s 11ms/step - loss: 0.6927 - accuracy: 0.7555 - val_loss: 0.8615 - val_accuracy: 0.7013\n",
      "Epoch 9/10\n",
      "1563/1563 [==============================] - 18s 11ms/step - loss: 0.6540 - accuracy: 0.7694 - val_loss: 0.9024 - val_accuracy: 0.6926\n",
      "Epoch 10/10\n",
      "1563/1563 [==============================] - 18s 11ms/step - loss: 0.6155 - accuracy: 0.7820 - val_loss: 0.9092 - val_accuracy: 0.6942\n"
     ]
    },
    {
     "data": {
      "text/plain": [
       "<keras.callbacks.History at 0x28a0e4ee7b8>"
      ]
     },
     "execution_count": 15,
     "metadata": {},
     "output_type": "execute_result"
    }
   ],
   "source": [
    "cifar_model = cnn_model(x_train_cifar[0].shape, 10)\n",
    "# 训练模型\n",
    "cifar_model.fit(x_train_cifar, y_train_cifar, epochs=10, validation_data=(x_test_cifar, y_test_cifar))"
   ]
  }
 ],
 "metadata": {
  "kernelspec": {
   "display_name": "Python 3 (ipykernel)",
   "language": "python",
   "name": "python3"
  },
  "language_info": {
   "codemirror_mode": {
    "name": "ipython",
    "version": 3
   },
   "file_extension": ".py",
   "mimetype": "text/x-python",
   "name": "python",
   "nbconvert_exporter": "python",
   "pygments_lexer": "ipython3",
   "version": "3.7.0"
  }
 },
 "nbformat": 4,
 "nbformat_minor": 5
}

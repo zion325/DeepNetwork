{
 "cells": [
  {
   "cell_type": "markdown",
   "id": "28487296",
   "metadata": {},
   "source": [
    "# 实验5：卷积神经网络CNN(ResNET)"
   ]
  },
  {
   "cell_type": "code",
   "execution_count": 4,
   "id": "a6d09a5a",
   "metadata": {},
   "outputs": [
    {
     "name": "stdout",
     "output_type": "stream",
     "text": [
      "train_data:  (50000, 32, 32, 3)\n",
      "test_data:  (10000, 32, 32, 3)\n"
     ]
    }
   ],
   "source": [
    "# 加载 CIFAR-10 数据集\n",
    "(cifar_train_data, cifar_train_labels), (cifar_test_data, cifar_test_labels) = datasets.cifar10.load_data()\n",
    "cifar_train_data, cifar_test_data = cifar_train_data / 255.0, cifar_test_data / 255.0\n",
    "print(\"train_data: \",cifar_train_data.shape)\n",
    "print(\"test_data: \",cifar_test_data.shape)"
   ]
  },
  {
   "cell_type": "markdown",
   "id": "ff0d3945",
   "metadata": {},
   "source": [
    "## 模型构建"
   ]
  },
  {
   "cell_type": "code",
   "execution_count": 2,
   "id": "ea9d8633",
   "metadata": {},
   "outputs": [],
   "source": [
    "import numpy as np\n",
    "import tensorflow as tf\n",
    "from tensorflow.keras import layers, Model, datasets\n"
   ]
  },
  {
   "cell_type": "code",
   "execution_count": 11,
   "id": "265f04e3",
   "metadata": {},
   "outputs": [],
   "source": [
    "# resNET-18\n",
    "class resnet_model(Model):\n",
    "    def __init__(self, num_classes):\n",
    "        super(resnet_model, self).__init__()\n",
    "        # 第一层，卷积\n",
    "        self.conv1 = layers.Conv2D(64,(3,3),padding='same',activation='relu')\n",
    "        self.bn1 = layers.BatchNormalization()\n",
    "        self.pool1 = layers.MaxPooling2D((2,2))\n",
    "        # 第二层开始，用“块” \n",
    "        self.block1 = self.build_resnet_block(64,2)\n",
    "        self.block2 = self.build_resnet_block(128,2,stride=2)\n",
    "        self.block3 = self.build_resnet_block(256,2,stride=2)\n",
    "        self.block4 = self.build_resnet_block(512,2,stride=2)\n",
    "        self.avgpool = layers.GlobalAveragePooling2D()\n",
    "        self.fc = layers.Dense(num_classes, activation='softmax')\n",
    "    \n",
    "    def build_resnet_block(self, filters, num_blocks, stride=1):\n",
    "        res_block = tf.keras.Sequential()\n",
    "        res_block.add(BasicBlock(filters, stride))\n",
    "        for _ in range(1, num_blocks):\n",
    "            res_block.add(BasicBlock(filters, stride))\n",
    "            \n",
    "        return res_block\n",
    "    \n",
    "    def call(self, inputs):\n",
    "        x = self.conv1(inputs)\n",
    "        x = self.bn1(x)\n",
    "        x = self.pool1(x)\n",
    "        x = self.block1(x)\n",
    "        x = self.block2(x)\n",
    "        x = self.block3(x)\n",
    "        x = self.block4(x)\n",
    "        \n",
    "        x = self.avgpool(x)\n",
    "        x = self.fc(x)\n",
    "        return x\n",
    "    \n",
    "class BasicBlock(layers.Layer):\n",
    "    def __init__(self, filters, stride=1):\n",
    "        super(BasicBlock, self).__init__()\n",
    "        self.conv1 = layers.Conv2D(filters, (3,3), strides=stride, padding='same', activation='relu')\n",
    "        self.bn1 = layers.BatchNormalization()\n",
    "        self.conv2 = layers.Conv2D(filters, (3,3), strides=1, padding='same', activation='relu')\n",
    "        self.bn2 = layers.BatchNormalization()\n",
    "        if stride !=1:\n",
    "            self.downsample = tf.keras.Sequential([\n",
    "                layers.Conv2D(filters, (1,1), strides=stride),\n",
    "                layers.BatchNormalization()\n",
    "            ])\n",
    "        else:\n",
    "            self.downsample = lambda x: x\n",
    "    \n",
    "    def call(self, inputs):\n",
    "        residual = self.downsample(inputs)\n",
    "        x = self.conv1(inputs)\n",
    "        x = self.bn1(x)\n",
    "        x = self.conv2(x)\n",
    "        x = self.bn2(x)\n",
    "        \n",
    "        x += residual\n",
    "        x = tf.nn.relu(x)\n",
    "        return x\n",
    "    \n",
    "        "
   ]
  },
  {
   "cell_type": "code",
   "execution_count": 15,
   "id": "0d4464e3",
   "metadata": {},
   "outputs": [],
   "source": [
    "# GPU\n",
    "gpus = tf.config.experimental.list_physical_devices('GPU')\n",
    "if gpus:\n",
    "    try:\n",
    "        for gpu in gpus:\n",
    "            tf.config.experimental.set_memory_growth(gpu, True)\n",
    "    except RuntimeError as e:\n",
    "        print(e)"
   ]
  },
  {
   "cell_type": "code",
   "execution_count": 18,
   "id": "b54bd7a4",
   "metadata": {},
   "outputs": [
    {
     "name": "stdout",
     "output_type": "stream",
     "text": [
      "Epoch 1/10\n",
      "782/782 [==============================] - 808s 1s/step - loss: 1.6714 - accuracy: 0.4127 - val_loss: 1.4371 - val_accuracy: 0.4957\n",
      "Epoch 2/10\n",
      "782/782 [==============================] - 803s 1s/step - loss: 1.2084 - accuracy: 0.5755 - val_loss: 1.1583 - val_accuracy: 0.5921\n",
      "Epoch 3/10\n",
      "782/782 [==============================] - 803s 1s/step - loss: 0.9925 - accuracy: 0.6546 - val_loss: 1.2060 - val_accuracy: 0.6011\n",
      "Epoch 4/10\n",
      "782/782 [==============================] - 798s 1s/step - loss: 0.8301 - accuracy: 0.7136 - val_loss: 0.9276 - val_accuracy: 0.6803\n",
      "Epoch 5/10\n",
      "782/782 [==============================] - 803s 1s/step - loss: 0.7211 - accuracy: 0.7538 - val_loss: 0.9282 - val_accuracy: 0.6841\n",
      "Epoch 6/10\n",
      "782/782 [==============================] - 802s 1s/step - loss: 0.6207 - accuracy: 0.7878 - val_loss: 0.8793 - val_accuracy: 0.6997\n",
      "Epoch 7/10\n",
      "782/782 [==============================] - 804s 1s/step - loss: 0.5413 - accuracy: 0.8147 - val_loss: 0.9208 - val_accuracy: 0.7017\n",
      "Epoch 8/10\n",
      "782/782 [==============================] - 802s 1s/step - loss: 0.4770 - accuracy: 0.8371 - val_loss: 0.9007 - val_accuracy: 0.7065\n",
      "Epoch 9/10\n",
      "782/782 [==============================] - 797s 1s/step - loss: 0.3847 - accuracy: 0.8698 - val_loss: 1.0097 - val_accuracy: 0.6871\n",
      "Epoch 10/10\n",
      "782/782 [==============================] - 794s 1s/step - loss: 0.3266 - accuracy: 0.8884 - val_loss: 0.7730 - val_accuracy: 0.7598\n",
      "1563/1563 [==============================] - 45s 29ms/step - loss: 0.2502 - accuracy: 0.9160\n"
     ]
    }
   ],
   "source": [
    "model = resnet_model(num_classes=10)\n",
    "model.compile(optimizer='adam', loss='sparse_categorical_crossentropy', metrics=['accuracy'])\n",
    "model.fit(cifar_train_data, cifar_train_labels, epochs=10, batch_size=64, validation_data=(cifar_test_data,cifar_test_labels))\n",
    "test_loss, test_acc = model.evaluate(cifar_train_data, cifar_train_labels)"
   ]
  },
  {
   "cell_type": "code",
   "execution_count": 19,
   "id": "1cc08d7f",
   "metadata": {},
   "outputs": [
    {
     "data": {
      "text/plain": [
       "0.9160199761390686"
      ]
     },
     "execution_count": 19,
     "metadata": {},
     "output_type": "execute_result"
    }
   ],
   "source": [
    "test_acc"
   ]
  }
 ],
 "metadata": {
  "kernelspec": {
   "display_name": "Python 3 (ipykernel)",
   "language": "python",
   "name": "python3"
  },
  "language_info": {
   "codemirror_mode": {
    "name": "ipython",
    "version": 3
   },
   "file_extension": ".py",
   "mimetype": "text/x-python",
   "name": "python",
   "nbconvert_exporter": "python",
   "pygments_lexer": "ipython3",
   "version": "3.7.0"
  }
 },
 "nbformat": 4,
 "nbformat_minor": 5
}

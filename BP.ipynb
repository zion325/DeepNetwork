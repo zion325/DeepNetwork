{
 "cells": [
  {
   "cell_type": "markdown",
   "id": "48dbc38a",
   "metadata": {
    "scrolled": true
   },
   "source": [
    "# BP神经网络训练MNIST&CIFAR-10"
   ]
  },
  {
   "cell_type": "markdown",
   "id": "9249ee09",
   "metadata": {},
   "source": [
    "## BP神经网络类"
   ]
  },
  {
   "cell_type": "code",
   "execution_count": 1,
   "id": "9bc4f45c",
   "metadata": {},
   "outputs": [],
   "source": [
    "import numpy as np\n",
    "\n",
    "\n",
    "# 激活函数\n",
    "def sigmoid(x):\n",
    "    return 1 / (1 + np.exp(-x))\n",
    "\n",
    "\n",
    "# 求导\n",
    "def sigmoid_derivative(x):\n",
    "    return x * (1 - x)\n",
    "\n",
    "def softmax(x):\n",
    "    max_x = np.max(x,axis=1,keepdims=True)\n",
    "    exps = np.exp(x-max_x)\n",
    "    return exps / np.sum(exps,axis=1,keepdims=True)\n",
    "\n",
    "\n",
    "# 全局误差\n",
    "def mean_squared_error(y_true, y_pred):\n",
    "    return np.mean(np.sum((y_true - y_pred) ** 2,axis=1,keepdims=True))\n",
    "    # return np.mean((y_true - y_pred) ** 2)\n",
    "    \n",
    "# 损失函数\n",
    "def cross_entropy_loss(y_true, y_pred):\n",
    "    # Avoiding numerical instability\n",
    "    y_pred = np.clip(y_pred, 1e-15, 1 - 1e-15)\n",
    "    return -np.sum(y_true * np.log(y_pred)) / len(y_true)\n",
    "\n",
    "\n",
    "# 第i隐含层有pi个神经元,输出层有q个神经元\n",
    "class BP:\n",
    "    def __init__(self, input_size, p, q):\n",
    "        '''\n",
    "        input_size: int 输入层变量的形状（扁平化）\n",
    "        p: List 隐藏层，[10,10,20]:三个隐藏层，分别有10，10，20个神经元数\n",
    "        q: int 输出层变量的形状（扁平化）\n",
    "        '''\n",
    "        self.input_size = input_size\n",
    "        self.p = p\n",
    "        self.q = q\n",
    "        self.w = []\n",
    "        self.b = []\n",
    "        self.layer_out = []  # 各层输出\n",
    "        self.layers = len(p) + 1\n",
    "        self.acc = []\n",
    "\n",
    "        layer_sizes = [input_size] + p + [q]\n",
    "        for i in range(1, self.layers + 1):\n",
    "            # w = np.random.uniform(low=-1, high=1, size=(layer_sizes[i - 1], layer_sizes[i]))\n",
    "            w = np.random.randn(layer_sizes[i - 1], layer_sizes[i])\n",
    "            b = np.random.randn(1, layer_sizes[i])\n",
    "            self.w.append(w)\n",
    "            self.b.append(b)\n",
    "\n",
    "    # 正向传播\n",
    "    def forword(self, x):\n",
    "        self.layer_out = []\n",
    "        # 输入层\n",
    "        out_put = sigmoid(np.dot(x, self.w[0]) + self.b[0])\n",
    "        self.layer_out.append(out_put)\n",
    "        # 隐含层\n",
    "        for i in range(1,self.layers - 1):\n",
    "            out_put = sigmoid(np.dot(out_put, self.w[i]) + self.b[i])\n",
    "            self.layer_out.append(out_put)\n",
    "        \n",
    "        # 输出层\n",
    "        out_put = sigmoid(np.dot(out_put, self.w[-1]) + self.b[-1])\n",
    "        # out_put = softmax(np.dot(out_put, self.w[-1]) + self.b[-1])\n",
    "        self.layer_out.append(out_put)\n",
    "        return out_put\n",
    "\n",
    "    # 反向传播\n",
    "    def backword(self, x, y, learn_rate):\n",
    "        num_samples = x.shape[0]\n",
    "        # 输出误差\n",
    "        output_error = y - self.layer_out[-1]\n",
    "        delta = output_error * sigmoid_derivative(self.layer_out[-1])\n",
    "        weight_delta = np.dot(self.layer_out[-2].T, delta)\n",
    "        bias_delta = np.sum(delta, axis=0, keepdims=True)\n",
    "        self.w[-1] += learn_rate * weight_delta / num_samples\n",
    "        self.b[-1] += learn_rate * bias_delta / num_samples\n",
    "\n",
    "        # 更新隐含层权值\n",
    "        for i in range(self.layers - 2, 0, -1):\n",
    "            output_error = np.dot(delta, self.w[i+1].T)\n",
    "            delta = output_error * sigmoid_derivative(self.layer_out[i])\n",
    "            weight_delta = np.dot(self.layer_out[i-1].T, delta)\n",
    "            bias_delta = np.sum(delta, axis=0, keepdims=True)\n",
    "            self.w[i] += learn_rate * weight_delta / num_samples\n",
    "            self.b[i] += learn_rate * bias_delta / num_samples\n",
    "\n",
    "        output_error = np.dot(delta, self.w[1].T)\n",
    "        delta = output_error * sigmoid_derivative(self.layer_out[0])\n",
    "        weight_delta = np.dot(x.T, delta)\n",
    "        bias_delta = np.sum(delta, axis=0, keepdims=True)\n",
    "        self.w[0] += learn_rate * weight_delta / num_samples\n",
    "        self.b[0] += learn_rate * bias_delta / num_samples\n",
    "\n",
    "    # 训练函数\n",
    "    def train(self, x, y, epochs=100, learn_rate=0.1, target_e=0.01):\n",
    "        '''\n",
    "        x：训练数据\n",
    "        y：标签\n",
    "        epochs：迭代次数\n",
    "        learn_rate：学习率\n",
    "        target_e：目标误差\n",
    "        '''\n",
    "        num_size = 100  # 分片数\n",
    "        batch_size = x.shape[0] // num_size \n",
    "        for epoch in range(epochs):\n",
    "            start = (epoch%num_size)*batch_size\n",
    "            end = start + batch_size\n",
    "            if end > x.shape[0]:\n",
    "                end = x.shape[0]\n",
    "            out_put = self.forword(x[start:end])\n",
    "            if epoch%500 == 0 and epoch > num_size:\n",
    "                acc_i = np.sum(np.argmax(out_put, axis=1) == np.argmax(y[start:end], axis=1)) / len(y[start:end])\n",
    "                self.acc.append([epoch,acc_i])\n",
    "            e = mean_squared_error(y[start:end], out_put)\n",
    "            # e = cross_entropy_loss(y[start:end], out_put)\n",
    "            if e <= target_e:\n",
    "                print(f\"误差: {e}  训练(次): {epoch}\")\n",
    "                break\n",
    "            self.backword(x[start:end], y[start:end], learn_rate)\n",
    "            if epoch == epochs - 1:\n",
    "                print(f\"Warning: 已经达到最大训练次数 {epochs} 误差：{e}.\")\n",
    "\n",
    "    def predict(self, y):\n",
    "        result = self.forword(y)\n",
    "        prediction = np.argmax(result, axis=1)\n",
    "        return np.eye(10)[prediction]\n",
    "            \n"
   ]
  },
  {
   "cell_type": "markdown",
   "id": "4a901b2f",
   "metadata": {},
   "source": [
    "## 获取MNIST数据"
   ]
  },
  {
   "cell_type": "code",
   "execution_count": 2,
   "id": "0d622375",
   "metadata": {},
   "outputs": [
    {
     "name": "stdout",
     "output_type": "stream",
     "text": [
      "[[0. 0. 0. ... 0. 0. 0.]\n",
      " [0. 0. 0. ... 0. 0. 0.]\n",
      " [0. 0. 0. ... 0. 0. 0.]\n",
      " [0. 0. 0. ... 0. 0. 0.]\n",
      " [0. 0. 0. ... 0. 0. 0.]]\n"
     ]
    }
   ],
   "source": [
    "import numpy as np\n",
    "# 获取数据集\n",
    "def read_labels(filename):\n",
    "    with open(filename, 'rb') as f:\n",
    "        f.read(4)\n",
    "        num_items = int.from_bytes(f.read(4), 'big')\n",
    "        # 读取标签数据\n",
    "        labels = [int.from_bytes(f.read(1), 'big') for _ in range(num_items)]\n",
    "    return labels\n",
    "\n",
    "\n",
    "def read_images(filename):\n",
    "    with open(filename, 'rb') as f:\n",
    "        f.read(4)\n",
    "        num_images = int.from_bytes(f.read(4), 'big')\n",
    "        rows = int.from_bytes(f.read(4), 'big')\n",
    "        cols = int.from_bytes(f.read(4), 'big')\n",
    "        # 读取图像数据\n",
    "        images = np.zeros((num_images, rows, cols), dtype=np.uint8)\n",
    "        for i in range(num_images):\n",
    "            for row in range(rows):\n",
    "                for col in range(cols):\n",
    "                    pixel = int.from_bytes(f.read(1), 'big')\n",
    "                    images[i, row, col] = pixel\n",
    "\n",
    "    return images\n",
    "\n",
    "test_labels = read_labels('./data/MNIST/test-labels-idx1-ubyte')\n",
    "train_labels = read_labels(\"./data/MNIST/train-labels-idx1-ubyte\")\n",
    "test_images = read_images('./data/MNIST/test-images-idx3-ubyte')\n",
    "train_images = read_images('./data/MNIST/train-images-idx3-ubyte')\n",
    "\n",
    "# 归一化、one-hot编码\n",
    "train_images = train_images.reshape(train_images.shape[0], -1) / 255.0\n",
    "train_labels = np.eye(10)[train_labels]\n",
    "test_images = test_images.reshape(test_images.shape[0], -1) / 255.0\n",
    "test_labels = np.eye(10)[test_labels]\n",
    "\n",
    "print(train_images[:5])"
   ]
  },
  {
   "cell_type": "code",
   "execution_count": null,
   "id": "14506abd",
   "metadata": {},
   "outputs": [],
   "source": [
    "print(test_labels[3])"
   ]
  },
  {
   "cell_type": "markdown",
   "id": "7481a56f",
   "metadata": {},
   "source": [
    "## 训练MNIST数据集"
   ]
  },
  {
   "cell_type": "code",
   "execution_count": 4,
   "id": "9c2dab25",
   "metadata": {},
   "outputs": [
    {
     "name": "stdout",
     "output_type": "stream",
     "text": [
      "Warning: 已经达到最大训练次数 1002 误差：0.8979087852574051.\n"
     ]
    }
   ],
   "source": [
    "# 输入层+8个隐含层+输出层\n",
    "bp_model = BP(784, [32,32,32,32,32,16,16,16,16,16], 10)\n",
    "bp_model.train(train_images, train_labels, epochs=2000+100, learn_rate=0.8,target_e=0.001)\n",
    "\n",
    "# 测试集预测\n",
    "y_output = bp_model.predict(test_images)\n",
    "right = np.sum(np.argmax(y_output, axis=1) == np.argmax(test_labels, axis=1))\n",
    "acc = right / len(test_labels)\n",
    "print(f\"正确率：{acc}\")\n",
    "print(f\"正确样本数：{right}/{len(test_labels)}\")"
   ]
  },
  {
   "cell_type": "markdown",
   "id": "38393b6b",
   "metadata": {},
   "source": [
    "### 训练集的预测正确率"
   ]
  },
  {
   "cell_type": "code",
   "execution_count": 11,
   "id": "8753faea",
   "metadata": {},
   "outputs": [
    {
     "data": {
      "image/png": "[encoded data removed]",
      "text/plain": [
       "<Figure size 640x480 with 1 Axes>"
      ]
     },
     "metadata": {},
     "output_type": "display_data"
    }
   ],
   "source": [
    "import matplotlib.pyplot as plt\n",
    "acc_train = np.array(bp_model.acc)\n",
    "plt.plot(acc_train[:,0],acc_train[:,1])\n",
    "plt.show()"
   ]
  },
  {
   "cell_type": "code",
   "execution_count": 55,
   "id": "5c72de83",
   "metadata": {},
   "outputs": [
    {
     "name": "stdout",
     "output_type": "stream",
     "text": [
      "[[0.08196781 0.12136221 0.02923792 0.05506404 0.14910178 0.09579632\n",
      "  0.03541495 0.25464057 0.08882589 0.25604416]\n",
      " [0.11633078 0.10832411 0.22754068 0.1552613  0.07164702 0.10843946\n",
      "  0.14924118 0.0595615  0.11215471 0.04453242]\n",
      " [0.08671055 0.12199087 0.0404373  0.06801419 0.13797544 0.07811124\n",
      "  0.04910022 0.19809411 0.08866548 0.18975228]\n",
      " [0.09437407 0.11047539 0.07693596 0.0923914  0.12061178 0.08367766\n",
      "  0.07230198 0.14078532 0.09457792 0.11268277]\n",
      " [0.10876099 0.10763185 0.17406991 0.14117273 0.08057005 0.09513961\n",
      "  0.12869487 0.06789893 0.10548184 0.0551604 ]]\n"
     ]
    }
   ],
   "source": [
    "print(y_output[:5])"
   ]
  },
  {
   "cell_type": "code",
   "execution_count": 56,
   "id": "e4e7649c",
   "metadata": {},
   "outputs": [
    {
     "name": "stdout",
     "output_type": "stream",
     "text": [
      "[[0. 0. 0. 0. 0. 0. 0. 1. 0. 0.]\n",
      " [0. 0. 1. 0. 0. 0. 0. 0. 0. 0.]\n",
      " [0. 1. 0. 0. 0. 0. 0. 0. 0. 0.]\n",
      " [1. 0. 0. 0. 0. 0. 0. 0. 0. 0.]\n",
      " [0. 0. 0. 0. 1. 0. 0. 0. 0. 0.]]\n"
     ]
    }
   ],
   "source": [
    "print(test_labels[:5])"
   ]
  },
  {
   "cell_type": "markdown",
   "id": "6bfa4015",
   "metadata": {},
   "source": [
    "## CIFAR-10数据获取"
   ]
  },
  {
   "cell_type": "code",
   "execution_count": 5,
   "id": "568441cc",
   "metadata": {},
   "outputs": [
    {
     "name": "stdout",
     "output_type": "stream",
     "text": [
      "(50000, 3072)\n"
     ]
    }
   ],
   "source": [
    "import pickle\n",
    "def read_cifar(filename):\n",
    "    with open(filename, 'rb') as f:\n",
    "        datadict = pickle.load(f, encoding='latin1') \n",
    "        X = datadict['data']\n",
    "        Y = datadict['labels']\n",
    "        X = X.astype(\"float\")\n",
    "        Y = np.array(Y)\n",
    "        return X, Y\n",
    "\n",
    "file_nums = ['1','2','3','4','5']\n",
    "cifar_train_data = []\n",
    "cifar_train_labels = []\n",
    "for i in file_nums:\n",
    "    file_name = './data/cifar-10-batches-py/data_batch_' + i\n",
    "    X, Y = read_cifar(file_name)\n",
    "    cifar_train_data.append(X)\n",
    "    cifar_train_labels.append(Y)\n",
    "cifar_train_data = np.concatenate(cifar_train_data)\n",
    "cifar_train_labels = np.concatenate(cifar_train_labels)\n",
    "del X, Y\n",
    "cifar_test_data, cifar_test_labels = read_cifar(\"./data/cifar-10-batches-py/test_batch\")\n",
    "\n",
    "# 归一化\n",
    "cifar_train_data = cifar_train_data / 255.0\n",
    "cifar_test_data = cifar_test_data / 255.0\n",
    "\n",
    "# one-hot编码\n",
    "cifar_train_labels = np.eye(10)[cifar_train_labels]\n",
    "cifar_test_labels = np.eye(10)[cifar_test_labels]\n",
    "\n",
    "print(cifar_train_data.shape)\n"
   ]
  },
  {
   "cell_type": "markdown",
   "id": "31926b9c",
   "metadata": {},
   "source": [
    "## 训练CIFAR-10数据"
   ]
  },
  {
   "cell_type": "code",
   "execution_count": 239,
   "id": "f6fb1c21",
   "metadata": {},
   "outputs": [
    {
     "name": "stdout",
     "output_type": "stream",
     "text": [
      "Warning: 已经达到最大训练次数 50101 误差：0.569597038020692.\n",
      "正确率：0.3804\n",
      "正确样本数：3804/10000\n"
     ]
    }
   ],
   "source": [
    "\n",
    "bp_cifar = BP(3072, [256,128,128,64,64,32,32], 10)\n",
    "bp_cifar.train(cifar_train_data, cifar_train_labels, epochs=50001+100, learn_rate=0.8, target_e=0.001)\n",
    "\n",
    "y_output_cifar = bp_cifar.predict(cifar_test_data)\n",
    "right_cifar = np.sum(np.argmax(y_output_cifar, axis=1) == np.argmax(cifar_test_labels, axis=1))\n",
    "acc_cifar = right_cifar / len(cifar_test_labels)\n",
    "print(f\"正确率：{acc_cifar}\")\n",
    "print(f\"正确样本数：{right_cifar}/{len(cifar_test_labels)}\")\n"
   ]
  },
  {
   "cell_type": "markdown",
   "id": "fcb2b2e1",
   "metadata": {},
   "source": [
    "### 预测正确率"
   ]
  },
  {
   "cell_type": "code",
   "execution_count": 240,
   "id": "16daab69",
   "metadata": {},
   "outputs": [
    {
     "data": {
      "image/png": "[encoded data removed]",
      "text/plain": [
       "<Figure size 640x480 with 1 Axes>"
      ]
     },
     "metadata": {},
     "output_type": "display_data"
    }
   ],
   "source": [
    "import matplotlib.pyplot as plt\n",
    "acc_train = np.array(bp_cifar.acc)\n",
    "plt.plot(acc_train[:,0],acc_train[:,1])\n",
    "plt.show()"
   ]
  }
 ],
 "metadata": {
  "kernelspec": {
   "display_name": "Python 3 (ipykernel)",
   "language": "python",
   "name": "python3"
  },
  "language_info": {
   "codemirror_mode": {
    "name": "ipython",
    "version": 3
   },
   "file_extension": ".py",
   "mimetype": "text/x-python",
   "name": "python",
   "nbconvert_exporter": "python",
   "pygments_lexer": "ipython3",
   "version": "3.7.0"
  }
 },
 "nbformat": 4,
 "nbformat_minor": 5
}
